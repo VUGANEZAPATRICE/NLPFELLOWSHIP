{
  "nbformat": 4,
  "nbformat_minor": 0,
  "metadata": {
    "colab": {
      "provenance": [],
      "authorship_tag": "ABX9TyN2Ee7vSujUN1CFt2ntz+40",
      "include_colab_link": true
    },
    "kernelspec": {
      "name": "python3",
      "display_name": "Python 3"
    },
    "language_info": {
      "name": "python"
    },
    "accelerator": "GPU"
  },
  "cells": [
    {
      "cell_type": "markdown",
      "metadata": {
        "id": "view-in-github",
        "colab_type": "text"
      },
      "source": [
        "<a href=\"https://colab.research.google.com/github/VUGANEZAPATRICE/NLPFELLOWSHIP/blob/main/my_colab_setup_day1.ipynb\" target=\"_parent\"><img src=\"https://colab.research.google.com/assets/colab-badge.svg\" alt=\"Open In Colab\"/></a>"
      ]
    },
    {
      "cell_type": "code",
      "execution_count": 1,
      "metadata": {
        "id": "YxM8qKyRVi53",
        "colab": {
          "base_uri": "https://localhost:8080/"
        },
        "outputId": "cf5c55b1-5f28-481b-ebbc-a01125f353b8"
      },
      "outputs": [
        {
          "output_type": "stream",
          "name": "stdout",
          "text": [
            "1666003363.228587\n"
          ]
        }
      ],
      "source": [
        "import regex\n",
        "import time\n",
        "print(time.time())\n"
      ]
    },
    {
      "cell_type": "code",
      "source": [],
      "metadata": {
        "id": "J3xBYB9oXySs"
      },
      "execution_count": null,
      "outputs": []
    }
  ]
}