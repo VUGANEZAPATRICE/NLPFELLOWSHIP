{
  "nbformat": 4,
  "nbformat_minor": 0,
  "metadata": {
    "colab": {
      "provenance": [],
      "collapsed_sections": [],
      "include_colab_link": true
    },
    "kernelspec": {
      "name": "python3",
      "display_name": "Python 3"
    },
    "language_info": {
      "name": "python"
    },
    "gpuClass": "standard"
  },
  "cells": [
    {
      "cell_type": "markdown",
      "metadata": {
        "id": "view-in-github",
        "colab_type": "text"
      },
      "source": [
        "<a href=\"https://colab.research.google.com/github/VUGANEZAPATRICE/NLPFELLOWSHIP/blob/main/WebScapping.ipynb\" target=\"_parent\"><img src=\"https://colab.research.google.com/assets/colab-badge.svg\" alt=\"Open In Colab\"/></a>"
      ]
    },
    {
      "cell_type": "code",
      "execution_count": null,
      "metadata": {
        "id": "jsw4t2JGbIYS"
      },
      "outputs": [],
      "source": [
        "import requests #Fetch HTML Pages from the Web\n",
        "from bs4 import BeautifulSoup #Extract information from HTML pages\n",
        "import pandas as pd #organise our data into tabular/tables"
      ]
    },
    {
      "cell_type": "code",
      "source": [
        "#Fetch Website HTML content using request library\n",
        "content_jobs = requests.get('https://www.jobinrwanda.com/jobs/all').content #Jobs\n",
        "content_cons = requests.get('https://www.jobinrwanda.com/jobs/consultancy').content  #Consultations\n",
        "content_tender = requests.get('https://www.jobinrwanda.com/jobs/tender').content #Tenders"
      ],
      "metadata": {
        "id": "jMGAjc1Jd9GU"
      },
      "execution_count": null,
      "outputs": []
    },
    {
      "cell_type": "code",
      "source": [
        "content_jobs #SHow the raw html content of jobs"
      ],
      "metadata": {
        "id": "n0CiXf4zgkCn"
      },
      "execution_count": null,
      "outputs": []
    },
    {
      "cell_type": "code",
      "source": [
        "page = BeautifulSoup(content_jobs, 'html.parser')"
      ],
      "metadata": {
        "id": "r3KovX6ehiTF"
      },
      "execution_count": null,
      "outputs": []
    },
    {
      "cell_type": "code",
      "source": [
        "adverts = page.find_all('div', class_='card-body p-2')"
      ],
      "metadata": {
        "id": "u3uxp0oPhuu9"
      },
      "execution_count": null,
      "outputs": []
    },
    {
      "cell_type": "code",
      "source": [
        "adverts[0]"
      ],
      "metadata": {
        "colab": {
          "base_uri": "https://localhost:8080/"
        },
        "id": "CB9QeiP4iFfa",
        "outputId": "69274fc6-6f14-41b1-d590-268a3046734d"
      },
      "execution_count": null,
      "outputs": [
        {
          "output_type": "execute_result",
          "data": {
            "text/plain": [
              "<div class=\"card-body p-2\">\n",
              "<a href=\"/job/procurement-manager-7\"><h5 class=\"card-title\"><span class=\"field field--name-title field--type-string field--label-hidden\"> Procurement Manager</span>\n",
              "</h5></a>\n",
              "<p class=\"card-text\">\n",
              "<a href=\"/employer/access-finance-rwanda-afr\">Access to Finance Rwanda (AFR)</a>  |\n",
              "              Published on 31-10-2022 |\n",
              "              Deadline <time class=\"datetime\" datetime=\"2022-11-10T17:00:00Z\">10-11-2022</time>\n",
              "<br/>\n",
              "                              Senior (5+ years of experience)<br/>\n",
              "<span class=\"badge badge-primary\">Job</span>\n",
              "</p>\n",
              "</div>"
            ]
          },
          "metadata": {},
          "execution_count": 25
        }
      ]
    },
    {
      "cell_type": "code",
      "source": [
        "adverts[0].find('p').find('br')"
      ],
      "metadata": {
        "colab": {
          "base_uri": "https://localhost:8080/"
        },
        "id": "5xMANYpDljW3",
        "outputId": "27975245-2e19-4f46-e1b7-3a42003276d9"
      },
      "execution_count": null,
      "outputs": [
        {
          "output_type": "execute_result",
          "data": {
            "text/plain": [
              "<br/>"
            ]
          },
          "metadata": {},
          "execution_count": 35
        }
      ]
    },
    {
      "cell_type": "code",
      "source": [
        "adverts[0].find('span').getText() #Title of Each Job advert\n",
        "adverts[0].find('a')['href']  #Link to the content of each job title\n",
        "adverts[0].find('p').find('a') #Link to the Institution that has posted the advert\n",
        "adverts[0].find('p').find('a').getText() #This is the name of the company"
      ],
      "metadata": {
        "colab": {
          "base_uri": "https://localhost:8080/",
          "height": 36
        },
        "id": "4zyHAy9zk7S6",
        "outputId": "11a011d8-966a-4f9b-9dfa-cae25be596d8"
      },
      "execution_count": null,
      "outputs": [
        {
          "output_type": "execute_result",
          "data": {
            "text/plain": [
              "' Procurement Manager'"
            ],
            "application/vnd.google.colaboratory.intrinsic+json": {
              "type": "string"
            }
          },
          "metadata": {},
          "execution_count": 24
        }
      ]
    },
    {
      "cell_type": "code",
      "source": [
        "df = pd.DataFrame()\n",
        "df['link'] = None\n",
        "df['title'] = None\n",
        "df['company_link'] = None\n",
        "df['company'] = None\n",
        "df['type'] = None"
      ],
      "metadata": {
        "id": "nVT42-1YowJZ"
      },
      "execution_count": null,
      "outputs": []
    },
    {
      "cell_type": "code",
      "source": [
        "l = ['a', 'v', 'b']\n",
        "for index, item in enumerate(l):\n",
        "  print(index, item)\n",
        "\n",
        "#Short INtro to Enumerate"
      ],
      "metadata": {
        "colab": {
          "base_uri": "https://localhost:8080/"
        },
        "id": "iMMzMezNp_Zb",
        "outputId": "c01ecbb8-e547-4a12-e6e5-2cde7d02e4bb"
      },
      "execution_count": null,
      "outputs": [
        {
          "output_type": "stream",
          "name": "stdout",
          "text": [
            "0 a\n",
            "1 v\n",
            "2 b\n"
          ]
        }
      ]
    },
    {
      "cell_type": "code",
      "source": [
        "l[0]  #list traversing"
      ],
      "metadata": {
        "colab": {
          "base_uri": "https://localhost:8080/",
          "height": 36
        },
        "id": "RRQXZvixq0ts",
        "outputId": "1dbe5d09-9dcc-4478-99e4-ef62bdc81224"
      },
      "execution_count": null,
      "outputs": [
        {
          "output_type": "execute_result",
          "data": {
            "text/plain": [
              "'a'"
            ],
            "application/vnd.google.colaboratory.intrinsic+json": {
              "type": "string"
            }
          },
          "metadata": {},
          "execution_count": 39
        }
      ]
    },
    {
      "cell_type": "code",
      "source": [
        "def parse_content(content, advert_type):\n",
        "  link = []\n",
        "  title = []\n",
        "  company = []\n",
        "  company_link = []\n",
        "  job_type = []\n",
        "  for index, advert in enumerate(content):\n",
        "    link.append(advert.find('a')['href'])\n",
        "    title.append(advert.find('span').getText()) #GEt the title from\n",
        "    company.append(str(advert.find('p').find('a').getText()))\n",
        "    company_link.append(advert.find('p').find('a'))\n",
        "    job_type.append(advert_type) #Whether its a job/consultacy/tender\n",
        "  return link, title, company, company_link, job_type"
      ],
      "metadata": {
        "id": "Km0FtmidpPbj"
      },
      "execution_count": null,
      "outputs": []
    },
    {
      "cell_type": "code",
      "source": [
        "#Jobs Advert\n",
        "content_jobs_bs = BeautifulSoup(content_jobs, 'html.parser')\n",
        "content_jobs_titles = content_jobs_bs.find_all('div', class_='card-body p-2')\n",
        "df['link'], df['title'], df['company'], df['company_link'], df['type']= parse_content(content_jobs_titles, advert_type='Job')"
      ],
      "metadata": {
        "id": "2yfV0LUPrrsX"
      },
      "execution_count": null,
      "outputs": []
    },
    {
      "cell_type": "code",
      "source": [
        "df['link']"
      ],
      "metadata": {
        "colab": {
          "base_uri": "https://localhost:8080/"
        },
        "id": "dBOvDmKTwS7r",
        "outputId": "eb702f81-8f05-432f-ab69-8807bb20cb22"
      },
      "execution_count": null,
      "outputs": [
        {
          "output_type": "execute_result",
          "data": {
            "text/plain": [
              "0                            /job/procurement-manager-7\n",
              "1                            /job/procurement-officer-7\n",
              "2                                 /job/hr-coordinator-0\n",
              "3                                 /job/project-engineer\n",
              "4             /index.php/job/customer-service-officer-1\n",
              "                            ...                        \n",
              "78                                /job/rwanda-tree-lead\n",
              "79       /index.php/job/rwanda-potato-seed-venture-lead\n",
              "80                    /job/it-operations-senior-manager\n",
              "81    /index.php/job/rwanda-seed-innovation-centre-lead\n",
              "82                         /job/senior-business-analyst\n",
              "Name: link, Length: 83, dtype: object"
            ]
          },
          "metadata": {},
          "execution_count": 50
        }
      ]
    },
    {
      "cell_type": "code",
      "source": [
        "list_description = []\n",
        "for i in range(len(df)):\n",
        "  link = 'https://www.jobinrwanda.com' + df['link'][i]\n",
        "  print(link, i)"
      ],
      "metadata": {
        "colab": {
          "base_uri": "https://localhost:8080/"
        },
        "id": "iYDccsW1vC57",
        "outputId": "7fb8150d-3612-436e-d490-b1fe897a195c"
      },
      "execution_count": null,
      "outputs": [
        {
          "output_type": "stream",
          "name": "stdout",
          "text": [
            "https://www.jobinrwanda.com/job/procurement-manager-7 0\n",
            "https://www.jobinrwanda.com/job/procurement-officer-7 1\n",
            "https://www.jobinrwanda.com/job/hr-coordinator-0 2\n",
            "https://www.jobinrwanda.com/job/project-engineer 3\n",
            "https://www.jobinrwanda.com/index.php/job/customer-service-officer-1 4\n",
            "https://www.jobinrwanda.com/job/operations-manager-6 5\n",
            "https://www.jobinrwanda.com/job/finance-specialist-fs 6\n",
            "https://www.jobinrwanda.com/job/account-manager-credit 7\n",
            "https://www.jobinrwanda.com/job/pastry-chef 8\n",
            "https://www.jobinrwanda.com/job/assistant-front-office-manager-afom 9\n",
            "https://www.jobinrwanda.com/job/ios-software-developer-ii-l3 10\n",
            "https://www.jobinrwanda.com/job/ios-senior-software-developer-l4 11\n",
            "https://www.jobinrwanda.com/job/lecturer-communication-and-writing 12\n",
            "https://www.jobinrwanda.com/job/research-associate-ra-0 13\n",
            "https://www.jobinrwanda.com/job/office-assistant-0 14\n",
            "https://www.jobinrwanda.com/job/head-field-officehuye 15\n",
            "https://www.jobinrwanda.com/job/human-resources-assistant-0 16\n",
            "https://www.jobinrwanda.com/job/rwanda-impact-specialist 17\n",
            "https://www.jobinrwanda.com/job/operations-support-manager-africa 18\n",
            "https://www.jobinrwanda.com/job/accounting-supervisor 19\n",
            "https://www.jobinrwanda.com/job/accounting-manager-1 20\n",
            "https://www.jobinrwanda.com/job/business-development-officer 21\n",
            "https://www.jobinrwanda.com/job/regional-grants-officer-central-africa 22\n",
            "https://www.jobinrwanda.com/job/medtronic-labs-senior-operations-associate-rwanda-0 23\n",
            "https://www.jobinrwanda.com/job/global-head-corporate-communications 24\n",
            "https://www.jobinrwanda.com/index.php/job/public-relations-officer 25\n",
            "https://www.jobinrwanda.com/job/grants-manager-2 26\n",
            "https://www.jobinrwanda.com/job/hvac-lead-technician 27\n",
            "https://www.jobinrwanda.com/job/maintenance-mechanic-appliance-repair-0 28\n",
            "https://www.jobinrwanda.com/job/camp-administrator 29\n",
            "https://www.jobinrwanda.com/job/rwanda-program-officer 30\n",
            "https://www.jobinrwanda.com/job/sales-representative-0 31\n",
            "https://www.jobinrwanda.com/job/sales-manager-5 32\n",
            "https://www.jobinrwanda.com/job/aquaculture-technician 33\n",
            "https://www.jobinrwanda.com/job/health-systems-strengthening-hss-manager 34\n",
            "https://www.jobinrwanda.com/index.php/job/development-manager 35\n",
            "https://www.jobinrwanda.com/job/retail-partnerships-lead 36\n",
            "https://www.jobinrwanda.com/job/project-officer-7 37\n",
            "https://www.jobinrwanda.com/job/une-assistante-de-direction-0 38\n",
            "https://www.jobinrwanda.com/job/administration-finance-intern 39\n",
            "https://www.jobinrwanda.com/job/loan-officers-3 40\n",
            "https://www.jobinrwanda.com/job/project-manager-14 41\n",
            "https://www.jobinrwanda.com/job/training-manager-0 42\n",
            "https://www.jobinrwanda.com/job/business-advisor-lobby-and-advocacy-expert 43\n",
            "https://www.jobinrwanda.com/job/it-and-mis-director 44\n",
            "https://www.jobinrwanda.com/job/learning-design-specialist-rwanda 45\n",
            "https://www.jobinrwanda.com/job/technical-advisor-2 46\n",
            "https://www.jobinrwanda.com/job/front-desk-officer-0 47\n",
            "https://www.jobinrwanda.com/job/global-remote-sensing-manager 48\n",
            "https://www.jobinrwanda.com/job/accountant-officer-0 49\n",
            "https://www.jobinrwanda.com/job/laborer 50\n",
            "https://www.jobinrwanda.com/job/migration-health-physician 51\n",
            "https://www.jobinrwanda.com/index.php/job/migration-health-nurse 52\n",
            "https://www.jobinrwanda.com/index.php/job/global-hr-support-specialist 53\n",
            "https://www.jobinrwanda.com/job/rwanda-procurement-specialist-0 54\n",
            "https://www.jobinrwanda.com/job/security-officer 55\n",
            "https://www.jobinrwanda.com/job/security-supervisor 56\n",
            "https://www.jobinrwanda.com/job/instructional-technology-assistant 57\n",
            "https://www.jobinrwanda.com/job/associate-professor-and-head-human-anatomy 58\n",
            "https://www.jobinrwanda.com/job/rwanda-potato-seed-store-manager 59\n",
            "https://www.jobinrwanda.com/job/agronomist-technician-g-2c 60\n",
            "https://www.jobinrwanda.com/job/dental-doctors-dental-surgeon 61\n",
            "https://www.jobinrwanda.com/job/head-rehabilitation-department 62\n",
            "https://www.jobinrwanda.com/job/distillery-assistant 63\n",
            "https://www.jobinrwanda.com/job/assistant-press-department-administration-and-consular-section 64\n",
            "https://www.jobinrwanda.com/index.php/job/rwanda-warehouse-manager 65\n",
            "https://www.jobinrwanda.com/job/csat-officer-rwanda 66\n",
            "https://www.jobinrwanda.com/job/spm-officer 67\n",
            "https://www.jobinrwanda.com/index.php/job/rwanda-communications-associate 68\n",
            "https://www.jobinrwanda.com/job/strategic-advisor-targeted-skills-development 69\n",
            "https://www.jobinrwanda.com/job/strategic-advisor-e-commerce 70\n",
            "https://www.jobinrwanda.com/job/50-sales-representatives-needed-all-city-rwanda-ltd-1 71\n",
            "https://www.jobinrwanda.com/job/store-keeper-1 72\n",
            "https://www.jobinrwanda.com/index.php/job/rwanda-market-access-and-srf-mel-associate 73\n",
            "https://www.jobinrwanda.com/job/rwanda-field-integration-coordinator 74\n",
            "https://www.jobinrwanda.com/job/rwanda-electrical-hub-operator 75\n",
            "https://www.jobinrwanda.com/job/learning-and-design-expert 76\n",
            "https://www.jobinrwanda.com/job/senior-accountant-3 77\n",
            "https://www.jobinrwanda.com/job/rwanda-tree-lead 78\n",
            "https://www.jobinrwanda.com/index.php/job/rwanda-potato-seed-venture-lead 79\n",
            "https://www.jobinrwanda.com/job/it-operations-senior-manager 80\n",
            "https://www.jobinrwanda.com/index.php/job/rwanda-seed-innovation-centre-lead 81\n",
            "https://www.jobinrwanda.com/job/senior-business-analyst 82\n"
          ]
        }
      ]
    },
    {
      "cell_type": "code",
      "source": [
        "job_description_raw_content = requests.get('https://www.jobinrwanda.com/job/global-remote-sensing-manager').content"
      ],
      "metadata": {
        "id": "yswm2DYHxaOU"
      },
      "execution_count": null,
      "outputs": []
    },
    {
      "cell_type": "code",
      "source": [
        "job_description_raw_content"
      ],
      "metadata": {
        "colab": {
          "base_uri": "https://localhost:8080/"
        },
        "id": "4vL5sqxox5as",
        "outputId": "3efbbcf6-e57b-4357-f195-ded78de1298b"
      },
      "execution_count": null,
      "outputs": [
        {
          "output_type": "execute_result",
          "data": {
            "text/plain": [
              "<Response [200]>"
            ]
          },
          "metadata": {},
          "execution_count": 55
        }
      ]
    },
    {
      "cell_type": "code",
      "source": [
        "job_description_bs = BeautifulSoup(job_description_raw_content, 'html.parser')"
      ],
      "metadata": {
        "id": "BG0ddhWrxsHD"
      },
      "execution_count": null,
      "outputs": []
    },
    {
      "cell_type": "code",
      "source": [
        "job_description_bs.find_all('div', class_='employer-description') #Employer Description"
      ],
      "metadata": {
        "id": "U7IBFmzJyCJh"
      },
      "execution_count": null,
      "outputs": []
    },
    {
      "cell_type": "code",
      "source": [
        "describe = job_description_bs.find_all('div', class_=\"clearfix text-formatted field field--name-field-job-full-description field--type-text-long field--label-hidden field__item\") #Employer Description"
      ],
      "metadata": {
        "id": "C1z3mjb4yS-F"
      },
      "execution_count": null,
      "outputs": []
    },
    {
      "cell_type": "code",
      "source": [
        "df['description'] = None"
      ],
      "metadata": {
        "id": "yBumTVKi2dEI"
      },
      "execution_count": null,
      "outputs": []
    },
    {
      "cell_type": "code",
      "source": [
        "def get_description(job_link):\n",
        "  job_description_raw_content = requests.get(f'https://www.jobinrwanda.com/{job_link}').content #request raw content\n",
        "  job_description_bs = BeautifulSoup(job_description_raw_content, 'html.parser')  #pass the html raw content to beautifull soup\n",
        "  job_description_bs.find_all('div', class_='employer-description') #Employer Description\n",
        "  #Get the entire job description\n",
        "  describe = job_description_bs.find_all('div', class_=\"clearfix text-formatted field field--name-field-job-full-description field--type-text-long field--label-hidden field__item\") #Employer Description\n",
        "  description = '' #Construct an empty string to hold the paragraph\n",
        "  for paragraph in describe:\n",
        "    description += paragraph.getText() #Adding each paragraph we find in the job description.\n",
        "  return description"
      ],
      "metadata": {
        "id": "cltQod3qz04c"
      },
      "execution_count": null,
      "outputs": []
    },
    {
      "cell_type": "code",
      "source": [
        "for position, link in enumerate(df['link']):\n",
        "  df.loc[position]['description'] = get_description(job_link=link)"
      ],
      "metadata": {
        "id": "1WxjoH3N0u2e"
      },
      "execution_count": null,
      "outputs": []
    },
    {
      "cell_type": "code",
      "source": [
        "df"
      ],
      "metadata": {
        "colab": {
          "base_uri": "https://localhost:8080/",
          "height": 693
        },
        "id": "v2dQbgrC23uc",
        "outputId": "4a979eef-3746-47ea-d342-2517469444e9"
      },
      "execution_count": null,
      "outputs": [
        {
          "output_type": "execute_result",
          "data": {
            "text/plain": [
              "                                                 link  \\\n",
              "0                          /job/procurement-manager-7   \n",
              "1                          /job/procurement-officer-7   \n",
              "2                               /job/hr-coordinator-0   \n",
              "3                               /job/project-engineer   \n",
              "4           /index.php/job/customer-service-officer-1   \n",
              "..                                                ...   \n",
              "78                              /job/rwanda-tree-lead   \n",
              "79     /index.php/job/rwanda-potato-seed-venture-lead   \n",
              "80                  /job/it-operations-senior-manager   \n",
              "81  /index.php/job/rwanda-seed-innovation-centre-lead   \n",
              "82                       /job/senior-business-analyst   \n",
              "\n",
              "                                 title  \\\n",
              "0                  Procurement Manager   \n",
              "1                  Procurement Officer   \n",
              "2                       HR Coordinator   \n",
              "3                    Project Engineer    \n",
              "4             Customer Service Officer   \n",
              "..                                 ...   \n",
              "78                    Rwanda Tree Lead   \n",
              "79   Rwanda Potato Seed Venture ﻿﻿Lead   \n",
              "80        IT Operations Senior Manager   \n",
              "81  Rwanda Seed Innovation Centre Lead   \n",
              "82             Senior Business Analyst   \n",
              "\n",
              "                                         company_link  \\\n",
              "0                    [Access to Finance Rwanda (AFR)]   \n",
              "1   [American Dream Home International-ADHI Rwanda...   \n",
              "2   [American Dream Home International-ADHI Rwanda...   \n",
              "3   [American Dream Home International-ADHI Rwanda...   \n",
              "4                                       [TIC-TAC-TOE]   \n",
              "..                                                ...   \n",
              "78                                    [One Acre Fund]   \n",
              "79                                    [One Acre Fund]   \n",
              "80                                    [One Acre Fund]   \n",
              "81                                    [One Acre Fund]   \n",
              "82                                    [One Acre Fund]   \n",
              "\n",
              "                                              company type description  \n",
              "0                      Access to Finance Rwanda (AFR)  Job        None  \n",
              "1   American Dream Home International-ADHI Rwanda Ltd  Job        None  \n",
              "2   American Dream Home International-ADHI Rwanda Ltd  Job        None  \n",
              "3   American Dream Home International-ADHI Rwanda Ltd  Job        None  \n",
              "4                                         TIC-TAC-TOE  Job        None  \n",
              "..                                                ...  ...         ...  \n",
              "78                                      One Acre Fund  Job        None  \n",
              "79                                      One Acre Fund  Job        None  \n",
              "80                                      One Acre Fund  Job        None  \n",
              "81                                      One Acre Fund  Job        None  \n",
              "82                                      One Acre Fund  Job        None  \n",
              "\n",
              "[83 rows x 6 columns]"
            ],
            "text/html": [
              "\n",
              "  <div id=\"df-803e0f68-206c-4e21-853e-23428102f35e\">\n",
              "    <div class=\"colab-df-container\">\n",
              "      <div>\n",
              "<style scoped>\n",
              "    .dataframe tbody tr th:only-of-type {\n",
              "        vertical-align: middle;\n",
              "    }\n",
              "\n",
              "    .dataframe tbody tr th {\n",
              "        vertical-align: top;\n",
              "    }\n",
              "\n",
              "    .dataframe thead th {\n",
              "        text-align: right;\n",
              "    }\n",
              "</style>\n",
              "<table border=\"1\" class=\"dataframe\">\n",
              "  <thead>\n",
              "    <tr style=\"text-align: right;\">\n",
              "      <th></th>\n",
              "      <th>link</th>\n",
              "      <th>title</th>\n",
              "      <th>company_link</th>\n",
              "      <th>company</th>\n",
              "      <th>type</th>\n",
              "      <th>description</th>\n",
              "    </tr>\n",
              "  </thead>\n",
              "  <tbody>\n",
              "    <tr>\n",
              "      <th>0</th>\n",
              "      <td>/job/procurement-manager-7</td>\n",
              "      <td>Procurement Manager</td>\n",
              "      <td>[Access to Finance Rwanda (AFR)]</td>\n",
              "      <td>Access to Finance Rwanda (AFR)</td>\n",
              "      <td>Job</td>\n",
              "      <td>None</td>\n",
              "    </tr>\n",
              "    <tr>\n",
              "      <th>1</th>\n",
              "      <td>/job/procurement-officer-7</td>\n",
              "      <td>Procurement Officer</td>\n",
              "      <td>[American Dream Home International-ADHI Rwanda...</td>\n",
              "      <td>American Dream Home International-ADHI Rwanda Ltd</td>\n",
              "      <td>Job</td>\n",
              "      <td>None</td>\n",
              "    </tr>\n",
              "    <tr>\n",
              "      <th>2</th>\n",
              "      <td>/job/hr-coordinator-0</td>\n",
              "      <td>HR Coordinator</td>\n",
              "      <td>[American Dream Home International-ADHI Rwanda...</td>\n",
              "      <td>American Dream Home International-ADHI Rwanda Ltd</td>\n",
              "      <td>Job</td>\n",
              "      <td>None</td>\n",
              "    </tr>\n",
              "    <tr>\n",
              "      <th>3</th>\n",
              "      <td>/job/project-engineer</td>\n",
              "      <td>Project Engineer</td>\n",
              "      <td>[American Dream Home International-ADHI Rwanda...</td>\n",
              "      <td>American Dream Home International-ADHI Rwanda Ltd</td>\n",
              "      <td>Job</td>\n",
              "      <td>None</td>\n",
              "    </tr>\n",
              "    <tr>\n",
              "      <th>4</th>\n",
              "      <td>/index.php/job/customer-service-officer-1</td>\n",
              "      <td>Customer Service Officer</td>\n",
              "      <td>[TIC-TAC-TOE]</td>\n",
              "      <td>TIC-TAC-TOE</td>\n",
              "      <td>Job</td>\n",
              "      <td>None</td>\n",
              "    </tr>\n",
              "    <tr>\n",
              "      <th>...</th>\n",
              "      <td>...</td>\n",
              "      <td>...</td>\n",
              "      <td>...</td>\n",
              "      <td>...</td>\n",
              "      <td>...</td>\n",
              "      <td>...</td>\n",
              "    </tr>\n",
              "    <tr>\n",
              "      <th>78</th>\n",
              "      <td>/job/rwanda-tree-lead</td>\n",
              "      <td>Rwanda Tree Lead</td>\n",
              "      <td>[One Acre Fund]</td>\n",
              "      <td>One Acre Fund</td>\n",
              "      <td>Job</td>\n",
              "      <td>None</td>\n",
              "    </tr>\n",
              "    <tr>\n",
              "      <th>79</th>\n",
              "      <td>/index.php/job/rwanda-potato-seed-venture-lead</td>\n",
              "      <td>Rwanda Potato Seed Venture ﻿﻿Lead</td>\n",
              "      <td>[One Acre Fund]</td>\n",
              "      <td>One Acre Fund</td>\n",
              "      <td>Job</td>\n",
              "      <td>None</td>\n",
              "    </tr>\n",
              "    <tr>\n",
              "      <th>80</th>\n",
              "      <td>/job/it-operations-senior-manager</td>\n",
              "      <td>IT Operations Senior Manager</td>\n",
              "      <td>[One Acre Fund]</td>\n",
              "      <td>One Acre Fund</td>\n",
              "      <td>Job</td>\n",
              "      <td>None</td>\n",
              "    </tr>\n",
              "    <tr>\n",
              "      <th>81</th>\n",
              "      <td>/index.php/job/rwanda-seed-innovation-centre-lead</td>\n",
              "      <td>Rwanda Seed Innovation Centre Lead</td>\n",
              "      <td>[One Acre Fund]</td>\n",
              "      <td>One Acre Fund</td>\n",
              "      <td>Job</td>\n",
              "      <td>None</td>\n",
              "    </tr>\n",
              "    <tr>\n",
              "      <th>82</th>\n",
              "      <td>/job/senior-business-analyst</td>\n",
              "      <td>Senior Business Analyst</td>\n",
              "      <td>[One Acre Fund]</td>\n",
              "      <td>One Acre Fund</td>\n",
              "      <td>Job</td>\n",
              "      <td>None</td>\n",
              "    </tr>\n",
              "  </tbody>\n",
              "</table>\n",
              "<p>83 rows × 6 columns</p>\n",
              "</div>\n",
              "      <button class=\"colab-df-convert\" onclick=\"convertToInteractive('df-803e0f68-206c-4e21-853e-23428102f35e')\"\n",
              "              title=\"Convert this dataframe to an interactive table.\"\n",
              "              style=\"display:none;\">\n",
              "        \n",
              "  <svg xmlns=\"http://www.w3.org/2000/svg\" height=\"24px\"viewBox=\"0 0 24 24\"\n",
              "       width=\"24px\">\n",
              "    <path d=\"M0 0h24v24H0V0z\" fill=\"none\"/>\n",
              "    <path d=\"M18.56 5.44l.94 2.06.94-2.06 2.06-.94-2.06-.94-.94-2.06-.94 2.06-2.06.94zm-11 1L8.5 8.5l.94-2.06 2.06-.94-2.06-.94L8.5 2.5l-.94 2.06-2.06.94zm10 10l.94 2.06.94-2.06 2.06-.94-2.06-.94-.94-2.06-.94 2.06-2.06.94z\"/><path d=\"M17.41 7.96l-1.37-1.37c-.4-.4-.92-.59-1.43-.59-.52 0-1.04.2-1.43.59L10.3 9.45l-7.72 7.72c-.78.78-.78 2.05 0 2.83L4 21.41c.39.39.9.59 1.41.59.51 0 1.02-.2 1.41-.59l7.78-7.78 2.81-2.81c.8-.78.8-2.07 0-2.86zM5.41 20L4 18.59l7.72-7.72 1.47 1.35L5.41 20z\"/>\n",
              "  </svg>\n",
              "      </button>\n",
              "      \n",
              "  <style>\n",
              "    .colab-df-container {\n",
              "      display:flex;\n",
              "      flex-wrap:wrap;\n",
              "      gap: 12px;\n",
              "    }\n",
              "\n",
              "    .colab-df-convert {\n",
              "      background-color: #E8F0FE;\n",
              "      border: none;\n",
              "      border-radius: 50%;\n",
              "      cursor: pointer;\n",
              "      display: none;\n",
              "      fill: #1967D2;\n",
              "      height: 32px;\n",
              "      padding: 0 0 0 0;\n",
              "      width: 32px;\n",
              "    }\n",
              "\n",
              "    .colab-df-convert:hover {\n",
              "      background-color: #E2EBFA;\n",
              "      box-shadow: 0px 1px 2px rgba(60, 64, 67, 0.3), 0px 1px 3px 1px rgba(60, 64, 67, 0.15);\n",
              "      fill: #174EA6;\n",
              "    }\n",
              "\n",
              "    [theme=dark] .colab-df-convert {\n",
              "      background-color: #3B4455;\n",
              "      fill: #D2E3FC;\n",
              "    }\n",
              "\n",
              "    [theme=dark] .colab-df-convert:hover {\n",
              "      background-color: #434B5C;\n",
              "      box-shadow: 0px 1px 3px 1px rgba(0, 0, 0, 0.15);\n",
              "      filter: drop-shadow(0px 1px 2px rgba(0, 0, 0, 0.3));\n",
              "      fill: #FFFFFF;\n",
              "    }\n",
              "  </style>\n",
              "\n",
              "      <script>\n",
              "        const buttonEl =\n",
              "          document.querySelector('#df-803e0f68-206c-4e21-853e-23428102f35e button.colab-df-convert');\n",
              "        buttonEl.style.display =\n",
              "          google.colab.kernel.accessAllowed ? 'block' : 'none';\n",
              "\n",
              "        async function convertToInteractive(key) {\n",
              "          const element = document.querySelector('#df-803e0f68-206c-4e21-853e-23428102f35e');\n",
              "          const dataTable =\n",
              "            await google.colab.kernel.invokeFunction('convertToInteractive',\n",
              "                                                     [key], {});\n",
              "          if (!dataTable) return;\n",
              "\n",
              "          const docLinkHtml = 'Like what you see? Visit the ' +\n",
              "            '<a target=\"_blank\" href=https://colab.research.google.com/notebooks/data_table.ipynb>data table notebook</a>'\n",
              "            + ' to learn more about interactive tables.';\n",
              "          element.innerHTML = '';\n",
              "          dataTable['output_type'] = 'display_data';\n",
              "          await google.colab.output.renderOutput(dataTable, element);\n",
              "          const docLink = document.createElement('div');\n",
              "          docLink.innerHTML = docLinkHtml;\n",
              "          element.appendChild(docLink);\n",
              "        }\n",
              "      </script>\n",
              "    </div>\n",
              "  </div>\n",
              "  "
            ]
          },
          "metadata": {},
          "execution_count": 72
        }
      ]
    },
    {
      "cell_type": "code",
      "source": [
        "tags = \"#informationtechnology #technology #it #cybersecurity #tech #computerscience #programming #business #coding #innovation #software #python #information #computer #informationsecurity #security #technologynews #java #networking #hacking #programmer #linux #technologyrocks #coder #technologythesedays #cloudcomputing #education #engineering #itservices #newtechnology\""
      ],
      "metadata": {
        "id": "xU0Y5clK6VTd"
      },
      "execution_count": null,
      "outputs": []
    },
    {
      "cell_type": "code",
      "source": [
        "tags.split('#')"
      ],
      "metadata": {
        "id": "Sj5Lt18k6fLk"
      },
      "execution_count": null,
      "outputs": []
    },
    {
      "cell_type": "code",
      "source": [],
      "metadata": {
        "id": "57_jckb963_1"
      },
      "execution_count": null,
      "outputs": []
    }
  ]
}